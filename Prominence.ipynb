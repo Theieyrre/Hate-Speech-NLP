{
  "nbformat": 4,
  "nbformat_minor": 0,
  "metadata": {
    "colab": {
      "name": "Prominence.ipynb",
      "provenance": [],
      "collapsed_sections": [],
      "authorship_tag": "ABX9TyOzwiJBoEjBZyh+k/EfVelo",
      "include_colab_link": true
    },
    "kernelspec": {
      "name": "python3",
      "display_name": "Python 3"
    }
  },
  "cells": [
    {
      "cell_type": "markdown",
      "metadata": {
        "id": "view-in-github",
        "colab_type": "text"
      },
      "source": [
        "<a href=\"https://colab.research.google.com/github/Theieyrre/Hate-Speech-NLP/blob/main/Prominence.ipynb\" target=\"_parent\"><img src=\"https://colab.research.google.com/assets/colab-badge.svg\" alt=\"Open In Colab\"/></a>"
      ]
    },
    {
      "cell_type": "code",
      "metadata": {
        "id": "5mLi6ih-Ehxs"
      },
      "source": [
        "import pandas as pd\n",
        "from tqdm import tqdm\n",
        "from math import log"
      ],
      "execution_count": null,
      "outputs": []
    },
    {
      "cell_type": "code",
      "metadata": {
        "id": "r7GmPqalnR3W",
        "colab": {
          "base_uri": "https://localhost:8080/",
          "height": 51
        },
        "outputId": "a5e99bd2-8ac9-4589-9c61-f03795acd138"
      },
      "source": [
        "import nltk\n",
        "nltk.download('stopwords')\n",
        "stop_word_list = nltk.corpus.stopwords.words('turkish')"
      ],
      "execution_count": null,
      "outputs": [
        {
          "output_type": "stream",
          "text": [
            "[nltk_data] Downloading package stopwords to /root/nltk_data...\n",
            "[nltk_data]   Unzipping corpora/stopwords.zip.\n"
          ],
          "name": "stdout"
        }
      ]
    },
    {
      "cell_type": "code",
      "metadata": {
        "id": "WwV2wT7Inj0D"
      },
      "source": [
        "stop_word_list.append('rt')\n",
        "stop_word_list.append('değil')\n",
        "stop_word_list.append('bir')"
      ],
      "execution_count": null,
      "outputs": []
    },
    {
      "cell_type": "code",
      "metadata": {
        "id": "jMt_qwfFEk3v"
      },
      "source": [
        "df_off = pd.read_csv('words.csv')\n",
        "df_not = pd.read_csv('words-not.csv')"
      ],
      "execution_count": null,
      "outputs": []
    },
    {
      "cell_type": "code",
      "metadata": {
        "id": "zpUMDhC9ncPd",
        "colab": {
          "base_uri": "https://localhost:8080/",
          "height": 204
        },
        "outputId": "036cdeab-5fd2-4516-8554-aeb143e50a4a"
      },
      "source": [
        "df_off = df_off[~df_off.word.isin(stop_word_list)]\n",
        "df_off.head()"
      ],
      "execution_count": null,
      "outputs": [
        {
          "output_type": "execute_result",
          "data": {
            "text/html": [
              "<div>\n",
              "<style scoped>\n",
              "    .dataframe tbody tr th:only-of-type {\n",
              "        vertical-align: middle;\n",
              "    }\n",
              "\n",
              "    .dataframe tbody tr th {\n",
              "        vertical-align: top;\n",
              "    }\n",
              "\n",
              "    .dataframe thead th {\n",
              "        text-align: right;\n",
              "    }\n",
              "</style>\n",
              "<table border=\"1\" class=\"dataframe\">\n",
              "  <thead>\n",
              "    <tr style=\"text-align: right;\">\n",
              "      <th></th>\n",
              "      <th>Unnamed: 0</th>\n",
              "      <th>word</th>\n",
              "      <th>count</th>\n",
              "    </tr>\n",
              "  </thead>\n",
              "  <tbody>\n",
              "    <tr>\n",
              "      <th>6</th>\n",
              "      <td>6</td>\n",
              "      <td>06melihgokcek</td>\n",
              "      <td>152869</td>\n",
              "    </tr>\n",
              "    <tr>\n",
              "      <th>7</th>\n",
              "      <td>7</td>\n",
              "      <td>rterdogan</td>\n",
              "      <td>141650</td>\n",
              "    </tr>\n",
              "    <tr>\n",
              "      <th>8</th>\n",
              "      <td>8</td>\n",
              "      <td>olsun</td>\n",
              "      <td>131183</td>\n",
              "    </tr>\n",
              "    <tr>\n",
              "      <th>12</th>\n",
              "      <td>12</td>\n",
              "      <td>ayasofya</td>\n",
              "      <td>103141</td>\n",
              "    </tr>\n",
              "    <tr>\n",
              "      <th>15</th>\n",
              "      <td>15</td>\n",
              "      <td>tcsavunma</td>\n",
              "      <td>82686</td>\n",
              "    </tr>\n",
              "  </tbody>\n",
              "</table>\n",
              "</div>"
            ],
            "text/plain": [
              "    Unnamed: 0           word   count\n",
              "6            6  06melihgokcek  152869\n",
              "7            7      rterdogan  141650\n",
              "8            8          olsun  131183\n",
              "12          12       ayasofya  103141\n",
              "15          15      tcsavunma   82686"
            ]
          },
          "metadata": {
            "tags": []
          },
          "execution_count": 5
        }
      ]
    },
    {
      "cell_type": "code",
      "metadata": {
        "id": "0Kww03Mwn09H",
        "colab": {
          "base_uri": "https://localhost:8080/",
          "height": 204
        },
        "outputId": "6079db63-573b-4273-8307-86a83aafa7fe"
      },
      "source": [
        "df_not = df_not[~df_not.word.isin(stop_word_list)]\n",
        "df_not.head()"
      ],
      "execution_count": null,
      "outputs": [
        {
          "output_type": "execute_result",
          "data": {
            "text/html": [
              "<div>\n",
              "<style scoped>\n",
              "    .dataframe tbody tr th:only-of-type {\n",
              "        vertical-align: middle;\n",
              "    }\n",
              "\n",
              "    .dataframe tbody tr th {\n",
              "        vertical-align: top;\n",
              "    }\n",
              "\n",
              "    .dataframe thead th {\n",
              "        text-align: right;\n",
              "    }\n",
              "</style>\n",
              "<table border=\"1\" class=\"dataframe\">\n",
              "  <thead>\n",
              "    <tr style=\"text-align: right;\">\n",
              "      <th></th>\n",
              "      <th>Unnamed: 0</th>\n",
              "      <th>word</th>\n",
              "      <th>count</th>\n",
              "    </tr>\n",
              "  </thead>\n",
              "  <tbody>\n",
              "    <tr>\n",
              "      <th>2</th>\n",
              "      <td>2</td>\n",
              "      <td>rterdogan</td>\n",
              "      <td>418320</td>\n",
              "    </tr>\n",
              "    <tr>\n",
              "      <th>4</th>\n",
              "      <td>4</td>\n",
              "      <td>cumhurbaşkanımız</td>\n",
              "      <td>279799</td>\n",
              "    </tr>\n",
              "    <tr>\n",
              "      <th>5</th>\n",
              "      <td>5</td>\n",
              "      <td>tcsavunma</td>\n",
              "      <td>241163</td>\n",
              "    </tr>\n",
              "    <tr>\n",
              "      <th>7</th>\n",
              "      <td>7</td>\n",
              "      <td>akparti</td>\n",
              "      <td>196692</td>\n",
              "    </tr>\n",
              "    <tr>\n",
              "      <th>9</th>\n",
              "      <td>9</td>\n",
              "      <td>erdoğan</td>\n",
              "      <td>168149</td>\n",
              "    </tr>\n",
              "  </tbody>\n",
              "</table>\n",
              "</div>"
            ],
            "text/plain": [
              "   Unnamed: 0              word   count\n",
              "2           2         rterdogan  418320\n",
              "4           4  cumhurbaşkanımız  279799\n",
              "5           5         tcsavunma  241163\n",
              "7           7           akparti  196692\n",
              "9           9           erdoğan  168149"
            ]
          },
          "metadata": {
            "tags": []
          },
          "execution_count": 6
        }
      ]
    },
    {
      "cell_type": "code",
      "metadata": {
        "id": "yj-4zbAhEm5Y"
      },
      "source": [
        "len_off = df_off['count'].sum()\n",
        "len_not = df_not['count'].sum()"
      ],
      "execution_count": null,
      "outputs": []
    },
    {
      "cell_type": "code",
      "metadata": {
        "id": "3ikprAaXEoqD",
        "colab": {
          "base_uri": "https://localhost:8080/",
          "height": 34
        },
        "outputId": "d2cefd20-b29e-47e8-82b5-f91cc786a152"
      },
      "source": [
        "pr_dict = dict()\n",
        "for index, row in tqdm(df_off.iterrows(), total=len(df_off), position=0, leave=True):\n",
        "    t = row['word']\n",
        "    tft_da = row['count']\n",
        "    tft_da_a = tft_da / len_off\n",
        "    word_in_not = df_not[df_not.word == t]\n",
        "    tft_db = word_in_not.iloc[0].loc['count'] if len(word_in_not) else 0\n",
        "    tft_db_b = tft_db / len_not\n",
        "    pr = log(tft_da) * (2 * tft_da_a / (tft_da_a + tft_db_b) - 1)\n",
        "    pr_dict[t] = pr"
      ],
      "execution_count": null,
      "outputs": [
        {
          "output_type": "stream",
          "text": [
            "100%|██████████| 27209/27209 [01:35<00:00, 285.35it/s]\n"
          ],
          "name": "stderr"
        }
      ]
    },
    {
      "cell_type": "code",
      "metadata": {
        "id": "9r-p9jJrE0kH",
        "colab": {
          "base_uri": "https://localhost:8080/",
          "height": 34
        },
        "outputId": "ffafd561-2878-4a2e-d293-c0f523b4ff37"
      },
      "source": [
        "pr_dict['ayasofya']"
      ],
      "execution_count": null,
      "outputs": [
        {
          "output_type": "execute_result",
          "data": {
            "text/plain": [
              "11.372075372064897"
            ]
          },
          "metadata": {
            "tags": []
          },
          "execution_count": 9
        }
      ]
    },
    {
      "cell_type": "code",
      "metadata": {
        "id": "X87yGpOwExvW",
        "colab": {
          "base_uri": "https://localhost:8080/",
          "height": 204
        },
        "outputId": "1ee089c2-da74-45d3-c58c-1196d7f61cc5"
      },
      "source": [
        "df_pr = pd.DataFrame.from_dict(pr_dict, orient='index')\n",
        "df_pr = df_pr.rename(columns={0: 'score'})\n",
        "df_pr.head()"
      ],
      "execution_count": null,
      "outputs": [
        {
          "output_type": "execute_result",
          "data": {
            "text/html": [
              "<div>\n",
              "<style scoped>\n",
              "    .dataframe tbody tr th:only-of-type {\n",
              "        vertical-align: middle;\n",
              "    }\n",
              "\n",
              "    .dataframe tbody tr th {\n",
              "        vertical-align: top;\n",
              "    }\n",
              "\n",
              "    .dataframe thead th {\n",
              "        text-align: right;\n",
              "    }\n",
              "</style>\n",
              "<table border=\"1\" class=\"dataframe\">\n",
              "  <thead>\n",
              "    <tr style=\"text-align: right;\">\n",
              "      <th></th>\n",
              "      <th>score</th>\n",
              "    </tr>\n",
              "  </thead>\n",
              "  <tbody>\n",
              "    <tr>\n",
              "      <th>06melihgokcek</th>\n",
              "      <td>-2.289333</td>\n",
              "    </tr>\n",
              "    <tr>\n",
              "      <th>rterdogan</th>\n",
              "      <td>-5.723072</td>\n",
              "    </tr>\n",
              "    <tr>\n",
              "      <th>olsun</th>\n",
              "      <td>4.929009</td>\n",
              "    </tr>\n",
              "    <tr>\n",
              "      <th>ayasofya</th>\n",
              "      <td>11.372075</td>\n",
              "    </tr>\n",
              "    <tr>\n",
              "      <th>tcsavunma</th>\n",
              "      <td>-5.409033</td>\n",
              "    </tr>\n",
              "  </tbody>\n",
              "</table>\n",
              "</div>"
            ],
            "text/plain": [
              "                   score\n",
              "06melihgokcek  -2.289333\n",
              "rterdogan      -5.723072\n",
              "olsun           4.929009\n",
              "ayasofya       11.372075\n",
              "tcsavunma      -5.409033"
            ]
          },
          "metadata": {
            "tags": []
          },
          "execution_count": 10
        }
      ]
    },
    {
      "cell_type": "code",
      "metadata": {
        "id": "h3-g4GMOEp8-"
      },
      "source": [
        "df_pr.to_csv('words_pr.csv')"
      ],
      "execution_count": null,
      "outputs": []
    }
  ]
}